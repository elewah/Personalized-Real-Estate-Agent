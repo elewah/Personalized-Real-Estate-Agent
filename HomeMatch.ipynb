{
 "cells": [
  {
   "cell_type": "markdown",
   "id": "a108af04",
   "metadata": {},
   "source": [
    "This is a starter notebook for the project, you'll have to import the libraries you'll need, you can find a list of the ones available in this workspace in the requirements.txt file in this workspace. "
   ]
  },
  {
   "cell_type": "code",
   "execution_count": 2,
   "id": "6554fd4c",
   "metadata": {},
   "outputs": [],
   "source": [
    "from dotenv import load_dotenv\n",
    "load_dotenv()\n",
    "from langchain.llms import OpenAI\n",
    "import os\n",
    "\n",
    "\n"
   ]
  },
  {
   "cell_type": "code",
   "execution_count": 27,
   "id": "59b21777",
   "metadata": {},
   "outputs": [
    {
     "name": "stdout",
     "output_type": "stream",
     "text": [
      "```csv\n",
      "Property ID,Title,Address,Price (CAD),Bedrooms,Bathrooms,Area (sqft),Type,Status,Description,Image URL,Agent Name,Agent Phone,Agent Email\n",
      "101,\"Charming Family Home\",\"123 Maple St, Toronto, ON\",850000,4,3,2300,\"Detached House\",\"For Sale\",\"A spacious family home located in a quiet neighborhood, featuring a large backyard and modern finishes.\",\"https://example.com/image1.jpg\",\"Emily Clark\",\"416-555-1234\",\"emily.clark@example.com\"\n",
      "102,\"Luxury Downtown Condo\",\"456 Bay St, Vancouver, BC\",1150000,2,2,1100,\"Condo\",\"For Sale\",\"A luxurious condo in the heart of downtown Vancouver with stunning city views and top-notch amenities.\",\"https://example.com/image2.jpg\",\"James Harris\",\"604-555-5678\",\"james.harris@example.com\"\n",
      "103,\"Cozy Suburban Bungalow\",\"789 Pine Ave, Calgary, AB\",450000,3,1,1400,\"Bungalow\",\"Pending\",\"This cozy bungalow is perfect for small families, located in a friendly suburban community.\",\"https://example.com/image3.jpg\",\"Sarah Thompson\",\"403-555-9876\",\"sarah.thompson@example.com\"\n",
      "104,\"Modern Townhouse\",\"321 Birch Rd, Ottawa, ON\",620000,3,2,1600,\"Townhouse\",\"For Sale\",\"A modern townhouse with an open-concept design, close to schools and parks.\",\"https://example.com/image4.jpg\",\"Tom Richards\",\"613-555-8765\",\"tom.richards@example.com\"\n",
      "105,\"Spacious Country Cottage\",\"654 Cedar Lane, Muskoka, ON\",750000,4,3,2500,\"Cottage\",\"For Sale\",\"Escape to this spacious cottage in Muskoka, offering tranquility and nature at your doorstep.\",\"https://example.com/image5.jpg\",\"Laura Bennett\",\"705-555-7654\",\"laura.bennett@example.com\"\n",
      "106,\"Urban Loft Apartment\",\"987 King St, Montreal, QC\",480000,1,1,900,\"Apartment\",\"For Rent\",\"A trendy loft apartment with exposed brick and high ceilings, located in the vibrant heart of Montreal.\",\"https://example.com/image6.jpg\",\"Daniel Lee\",\"514-555-6543\",\"daniel.lee@example.com\"\n",
      "107,\"High Traffic Commercial Space\",\"123 Queen St, Halifax, NS\",950000,,2,1500,\"Commercial Space\",\"For Sale\",\"Prime commercial space in a high traffic area, perfect for retail or office use.\",\"https://example.com/image7.jpg\",\"Anna Green\",\"902-555-5432\",\"anna.green@example.com\"\n",
      "108,\"Historic Victorian Home\",\"456 Elm St, Victoria, BC\",1200000,5,4,3000,\"Detached House\",\"Sold\",\"A beautifully restored Victorian home with vintage charm and modern amenities, located in a historic district.\",\"https://example.com/image8.jpg\",\"George Wilson\",\"250-555-4321\",\"george.wilson@example.com\"\n",
      "109,\"Luxury Penthouse\",\"789 Bloor St, Toronto, ON\",2200000,3,3,2000,\"Condo\",\"For Sale\",\"This luxury penthouse offers panoramic views of Toronto's skyline, with top-of-the-line finishes and private terrace.\",\"https://example.com/image9.jpg\",\"Olivia Scott\",\"416-555-3210\",\"olivia.scott@example.com\"\n",
      "110,\"Lakefront Vacation Home\",\"321 Lakeview Dr, Kelowna, BC\",980000,3,2,1800,\"Cottage\",\"For Sale\",\"A stunning lakefront home ideal for vacations, offering breathtaking views and private dock access.\",\"https://example.com/image10.jpg\",\"Michael Carter\",\"604-555-2109\",\"michael.carter@example.com\"\n",
      "```\n"
     ]
    }
   ],
   "source": [
    "from langchain.prompts import PromptTemplate\n",
    "from langchain.llms import OpenAI\n",
    "from langchain.chains import LLMChain\n",
    "\n",
    "# Step 1: Define the prompt template\n",
    "real_estate_prompt = PromptTemplate(\n",
    "    input_variables=[\"region\", \"num_listings\", \"output_format\"],\n",
    "    template=\"\"\"\n",
    "Generate a diverse and realistic set of {num_listings} real estate listings in {region}.\n",
    "Each listing should contain the following fields:\n",
    "\n",
    "- Property ID  \n",
    "- Title  \n",
    "- Address (Street, City, Province)  \n",
    "- Price (CAD)  \n",
    "- Bedrooms  \n",
    "- Bathrooms  \n",
    "- Area (sqft)  \n",
    "- Type (e.g., Detached House, Condo, Apartment, Townhouse, Commercial Space, Cottage, Bungalow)  \n",
    "- Status (For Sale, Sold, Pending, For Rent)  \n",
    "- Description  \n",
    "- Image URL  \n",
    "- Agent Name  \n",
    "- Agent Phone  \n",
    "- Agent Email  \n",
    "\n",
    "Ensure:\n",
    "- Listings are realistic for the Canadian real estate market\n",
    "- Data uses Canadian locations and formatting\n",
    "- Output should be structured as {output_format}\n",
    "\n",
    "Begin generating the listings now.\n",
    "\"\"\"\n",
    ")\n",
    "# model_name = \"gpt-3.5-turbo\"\n",
    "# Step 2: Initialize the LLM\n",
    "\n",
    "llm = OpenAI(\n",
    "    model_name=\"gpt-4o\",\n",
    "    temperature=0.7,\n",
    "    openai_api_base=os.environ[\"OPENAI_API_BASE\"],\n",
    "    openai_api_key=os.environ[\"OPENAI_API_KEY\"]\n",
    ")\n",
    "\n",
    "# Step 3: Create the LLM chain\n",
    "real_estate_chain = LLMChain(\n",
    "    llm=llm,\n",
    "    prompt=real_estate_prompt\n",
    ")\n",
    "\n",
    "# Step 4: Run the chain with input values\n",
    "response = real_estate_chain.run({\n",
    "    \"region\": \"Canada\",\n",
    "    \"num_listings\": \"10\",\n",
    "    \"output_format\": \"a CSV-formatted table\"\n",
    "})\n",
    "\n",
    "# Output the generated listings\n",
    "print(response)\n",
    "# save the response to a text file\n",
    "with open(\"real_estate_listings.txt\", \"w\") as f:\n",
    "    f.write(response)\n",
    "\n",
    "with open(\"real_estate_listings.csv\", \"w\") as f:\n",
    "    f.write(response)\n",
    "\n",
    "\n",
    "\n"
   ]
  },
  {
   "cell_type": "code",
   "execution_count": null,
   "id": "4178e0d4",
   "metadata": {},
   "outputs": [],
   "source": []
  }
 ],
 "metadata": {
  "kernelspec": {
   "display_name": "venv",
   "language": "python",
   "name": "python3"
  },
  "language_info": {
   "codemirror_mode": {
    "name": "ipython",
    "version": 3
   },
   "file_extension": ".py",
   "mimetype": "text/x-python",
   "name": "python",
   "nbconvert_exporter": "python",
   "pygments_lexer": "ipython3",
   "version": "3.10.18"
  }
 },
 "nbformat": 4,
 "nbformat_minor": 5
}
