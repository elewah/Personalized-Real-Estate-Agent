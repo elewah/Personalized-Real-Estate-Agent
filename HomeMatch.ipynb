{
 "cells": [
  {
   "cell_type": "markdown",
   "id": "a108af04",
   "metadata": {},
   "source": [
    "This is a starter notebook for the project, you'll have to import the libraries you'll need, you can find a list of the ones available in this workspace in the requirements.txt file in this workspace. "
   ]
  },
  {
   "cell_type": "code",
   "execution_count": 2,
   "id": "6554fd4c",
   "metadata": {},
   "outputs": [],
   "source": [
    "from dotenv import load_dotenv\n",
    "load_dotenv()\n",
    "from langchain.llms import OpenAI\n",
    "import os\n",
    "\n",
    "\n"
   ]
  },
  {
   "cell_type": "code",
   "execution_count": 27,
   "id": "59b21777",
   "metadata": {},
   "outputs": [
    {
     "name": "stdout",
     "output_type": "stream",
     "text": [
      "```csv\n",
      "Property ID,Title,Address,Price (CAD),Bedrooms,Bathrooms,Area (sqft),Type,Status,Description,Image URL,Agent Name,Agent Phone,Agent Email\n",
      "101,\"Charming Family Home\",\"123 Maple St, Toronto, ON\",850000,4,3,2300,\"Detached House\",\"For Sale\",\"A spacious family home located in a quiet neighborhood, featuring a large backyard and modern finishes.\",\"https://example.com/image1.jpg\",\"Emily Clark\",\"416-555-1234\",\"emily.clark@example.com\"\n",
      "102,\"Luxury Downtown Condo\",\"456 Bay St, Vancouver, BC\",1150000,2,2,1100,\"Condo\",\"For Sale\",\"A luxurious condo in the heart of downtown Vancouver with stunning city views and top-notch amenities.\",\"https://example.com/image2.jpg\",\"James Harris\",\"604-555-5678\",\"james.harris@example.com\"\n",
      "103,\"Cozy Suburban Bungalow\",\"789 Pine Ave, Calgary, AB\",450000,3,1,1400,\"Bungalow\",\"Pending\",\"This cozy bungalow is perfect for small families, located in a friendly suburban community.\",\"https://example.com/image3.jpg\",\"Sarah Thompson\",\"403-555-9876\",\"sarah.thompson@example.com\"\n",
      "104,\"Modern Townhouse\",\"321 Birch Rd, Ottawa, ON\",620000,3,2,1600,\"Townhouse\",\"For Sale\",\"A modern townhouse with an open-concept design, close to schools and parks.\",\"https://example.com/image4.jpg\",\"Tom Richards\",\"613-555-8765\",\"tom.richards@example.com\"\n",
      "105,\"Spacious Country Cottage\",\"654 Cedar Lane, Muskoka, ON\",750000,4,3,2500,\"Cottage\",\"For Sale\",\"Escape to this spacious cottage in Muskoka, offering tranquility and nature at your doorstep.\",\"https://example.com/image5.jpg\",\"Laura Bennett\",\"705-555-7654\",\"laura.bennett@example.com\"\n",
      "106,\"Urban Loft Apartment\",\"987 King St, Montreal, QC\",480000,1,1,900,\"Apartment\",\"For Rent\",\"A trendy loft apartment with exposed brick and high ceilings, located in the vibrant heart of Montreal.\",\"https://example.com/image6.jpg\",\"Daniel Lee\",\"514-555-6543\",\"daniel.lee@example.com\"\n",
      "107,\"High Traffic Commercial Space\",\"123 Queen St, Halifax, NS\",950000,,2,1500,\"Commercial Space\",\"For Sale\",\"Prime commercial space in a high traffic area, perfect for retail or office use.\",\"https://example.com/image7.jpg\",\"Anna Green\",\"902-555-5432\",\"anna.green@example.com\"\n",
      "108,\"Historic Victorian Home\",\"456 Elm St, Victoria, BC\",1200000,5,4,3000,\"Detached House\",\"Sold\",\"A beautifully restored Victorian home with vintage charm and modern amenities, located in a historic district.\",\"https://example.com/image8.jpg\",\"George Wilson\",\"250-555-4321\",\"george.wilson@example.com\"\n",
      "109,\"Luxury Penthouse\",\"789 Bloor St, Toronto, ON\",2200000,3,3,2000,\"Condo\",\"For Sale\",\"This luxury penthouse offers panoramic views of Toronto's skyline, with top-of-the-line finishes and private terrace.\",\"https://example.com/image9.jpg\",\"Olivia Scott\",\"416-555-3210\",\"olivia.scott@example.com\"\n",
      "110,\"Lakefront Vacation Home\",\"321 Lakeview Dr, Kelowna, BC\",980000,3,2,1800,\"Cottage\",\"For Sale\",\"A stunning lakefront home ideal for vacations, offering breathtaking views and private dock access.\",\"https://example.com/image10.jpg\",\"Michael Carter\",\"604-555-2109\",\"michael.carter@example.com\"\n",
      "```\n"
     ]
    }
   ],
   "source": [
    "from langchain.prompts import PromptTemplate\n",
    "from langchain.llms import OpenAI\n",
    "from langchain.chains import LLMChain\n",
    "\n",
    "# Step 1: Define the prompt template\n",
    "real_estate_prompt = PromptTemplate(\n",
    "    input_variables=[\"region\", \"num_listings\", \"output_format\"],\n",
    "    template=\"\"\"\n",
    "Generate a diverse and realistic set of {num_listings} real estate listings in {region}.\n",
    "Each listing should contain the following fields:\n",
    "\n",
    "- Property ID  \n",
    "- Title  \n",
    "- Address (Street, City, Province)  \n",
    "- Price (CAD)  \n",
    "- Bedrooms  \n",
    "- Bathrooms  \n",
    "- Area (sqft)  \n",
    "- Type (e.g., Detached House, Condo, Apartment, Townhouse, Commercial Space, Cottage, Bungalow)  \n",
    "- Status (For Sale, Sold, Pending, For Rent)  \n",
    "- Description  \n",
    "- Image URL  \n",
    "- Agent Name  \n",
    "- Agent Phone  \n",
    "- Agent Email  \n",
    "\n",
    "Ensure:\n",
    "- Listings are realistic for the Canadian real estate market\n",
    "- Data uses Canadian locations and formatting\n",
    "- Output should be structured as {output_format}\n",
    "\n",
    "Begin generating the listings now.\n",
    "\"\"\"\n",
    ")\n",
    "# model_name = \"gpt-3.5-turbo\"\n",
    "# Step 2: Initialize the LLM\n",
    "\n",
    "llm = OpenAI(\n",
    "    model_name=\"gpt-4o\",\n",
    "    temperature=0.7,\n",
    "    openai_api_base=os.environ[\"OPENAI_API_BASE\"],\n",
    "    openai_api_key=os.environ[\"OPENAI_API_KEY\"]\n",
    ")\n",
    "\n",
    "# Step 3: Create the LLM chain\n",
    "real_estate_chain = LLMChain(\n",
    "    llm=llm,\n",
    "    prompt=real_estate_prompt\n",
    ")\n",
    "\n",
    "# Step 4: Run the chain with input values\n",
    "response = real_estate_chain.run({\n",
    "    \"region\": \"Canada\",\n",
    "    \"num_listings\": \"10\",\n",
    "    \"output_format\": \"a CSV-formatted table\"\n",
    "})\n",
    "\n",
    "# Output the generated listings\n",
    "print(response)\n",
    "# save the response to a text file\n",
    "with open(\"real_estate_listings.txt\", \"w\") as f:\n",
    "    f.write(response)\n",
    "\n",
    "with open(\"real_estate_listings.csv\", \"w\") as f:\n",
    "    f.write(response)\n",
    "\n",
    "\n",
    "\n"
   ]
  },
  {
   "cell_type": "code",
   "execution_count": 2,
   "id": "4178e0d4",
   "metadata": {},
   "outputs": [],
   "source": [
    "# load_the csv file and print the first 5 lines skipping the first line.\n",
    "# remve nan values and print the last line\n",
    "import pandas as pd\n",
    "df = pd.read_csv(\"real_estate_listings.csv\", skiprows=1)\n",
    "df = df.dropna()\n"
   ]
  },
  {
   "cell_type": "code",
   "execution_count": 3,
   "id": "85883058",
   "metadata": {},
   "outputs": [
    {
     "name": "stdout",
     "output_type": "stream",
     "text": [
      "0    A spacious family home located in a quiet neighborhood, featuring a large backyard and modern finishes.\n",
      "Name: Description, dtype: object\n"
     ]
    }
   ],
   "source": [
    "# print without truncation\n",
    "pd.set_option('display.max_colwidth', None) \n",
    "print(df['Description'].head(1))"
   ]
  },
  {
   "cell_type": "code",
   "execution_count": 4,
   "id": "ff600408",
   "metadata": {},
   "outputs": [
    {
     "data": {
      "text/plain": [
       "0               Property ID: 101\\nTitle: Charming Family Home\\nAddress: 123 Maple St, Toronto, ON\\nPrice: $850,000.0 CAD\\nBedrooms: 4.0\\nBathrooms: 3.0\\nArea: 2300.0 sqft\\nType: Detached House\\nStatus: For Sale\\nAgent: Emily Clark | 416-555-1234 | emily.clark@example.com\\nImage URL: https://example.com/image1.jpg\\nDescription: A spacious family home located in a quiet neighborhood, featuring a large backyard and modern finishes.\n",
       "1                    Property ID: 102\\nTitle: Luxury Downtown Condo\\nAddress: 456 Bay St, Vancouver, BC\\nPrice: $1,150,000.0 CAD\\nBedrooms: 2.0\\nBathrooms: 2.0\\nArea: 1100.0 sqft\\nType: Condo\\nStatus: For Sale\\nAgent: James Harris | 604-555-5678 | james.harris@example.com\\nImage URL: https://example.com/image2.jpg\\nDescription: A luxurious condo in the heart of downtown Vancouver with stunning city views and top-notch amenities.\n",
       "2                          Property ID: 103\\nTitle: Cozy Suburban Bungalow\\nAddress: 789 Pine Ave, Calgary, AB\\nPrice: $450,000.0 CAD\\nBedrooms: 3.0\\nBathrooms: 1.0\\nArea: 1400.0 sqft\\nType: Bungalow\\nStatus: Pending\\nAgent: Sarah Thompson | 403-555-9876 | sarah.thompson@example.com\\nImage URL: https://example.com/image3.jpg\\nDescription: This cozy bungalow is perfect for small families, located in a friendly suburban community.\n",
       "3                                                   Property ID: 104\\nTitle: Modern Townhouse\\nAddress: 321 Birch Rd, Ottawa, ON\\nPrice: $620,000.0 CAD\\nBedrooms: 3.0\\nBathrooms: 2.0\\nArea: 1600.0 sqft\\nType: Townhouse\\nStatus: For Sale\\nAgent: Tom Richards | 613-555-8765 | tom.richards@example.com\\nImage URL: https://example.com/image4.jpg\\nDescription: A modern townhouse with an open-concept design, close to schools and parks.\n",
       "4                      Property ID: 105\\nTitle: Spacious Country Cottage\\nAddress: 654 Cedar Lane, Muskoka, ON\\nPrice: $750,000.0 CAD\\nBedrooms: 4.0\\nBathrooms: 3.0\\nArea: 2500.0 sqft\\nType: Cottage\\nStatus: For Sale\\nAgent: Laura Bennett | 705-555-7654 | laura.bennett@example.com\\nImage URL: https://example.com/image5.jpg\\nDescription: Escape to this spacious cottage in Muskoka, offering tranquility and nature at your doorstep.\n",
       "5                       Property ID: 106\\nTitle: Urban Loft Apartment\\nAddress: 987 King St, Montreal, QC\\nPrice: $480,000.0 CAD\\nBedrooms: 1.0\\nBathrooms: 1.0\\nArea: 900.0 sqft\\nType: Apartment\\nStatus: For Rent\\nAgent: Daniel Lee | 514-555-6543 | daniel.lee@example.com\\nImage URL: https://example.com/image6.jpg\\nDescription: A trendy loft apartment with exposed brick and high ceilings, located in the vibrant heart of Montreal.\n",
       "7    Property ID: 108\\nTitle: Historic Victorian Home\\nAddress: 456 Elm St, Victoria, BC\\nPrice: $1,200,000.0 CAD\\nBedrooms: 5.0\\nBathrooms: 4.0\\nArea: 3000.0 sqft\\nType: Detached House\\nStatus: Sold\\nAgent: George Wilson | 250-555-4321 | george.wilson@example.com\\nImage URL: https://example.com/image8.jpg\\nDescription: A beautifully restored Victorian home with vintage charm and modern amenities, located in a historic district.\n",
       "8          Property ID: 109\\nTitle: Luxury Penthouse\\nAddress: 789 Bloor St, Toronto, ON\\nPrice: $2,200,000.0 CAD\\nBedrooms: 3.0\\nBathrooms: 3.0\\nArea: 2000.0 sqft\\nType: Condo\\nStatus: For Sale\\nAgent: Olivia Scott | 416-555-3210 | olivia.scott@example.com\\nImage URL: https://example.com/image9.jpg\\nDescription: This luxury penthouse offers panoramic views of Toronto's skyline, with top-of-the-line finishes and private terrace.\n",
       "9             Property ID: 110\\nTitle: Lakefront Vacation Home\\nAddress: 321 Lakeview Dr, Kelowna, BC\\nPrice: $980,000.0 CAD\\nBedrooms: 3.0\\nBathrooms: 2.0\\nArea: 1800.0 sqft\\nType: Cottage\\nStatus: For Sale\\nAgent: Michael Carter | 604-555-2109 | michael.carter@example.com\\nImage URL: https://example.com/image10.jpg\\nDescription: A stunning lakefront home ideal for vacations, offering breathtaking views and private dock access.\n",
       "Name: Embedding Prompt, dtype: object"
      ]
     },
     "execution_count": 4,
     "metadata": {},
     "output_type": "execute_result"
    }
   ],
   "source": [
    "# Create structured prompts\n",
    "def create_embedding_prompt(row):\n",
    "    return (\n",
    "        f\"Property ID: {row['Property ID']}\\n\"\n",
    "        f\"Title: {row['Title']}\\n\"\n",
    "        f\"Address: {row['Address']}\\n\"\n",
    "        f\"Price: ${row['Price (CAD)']:,} CAD\\n\"\n",
    "        f\"Bedrooms: {row['Bedrooms']}\\n\"\n",
    "        f\"Bathrooms: {row['Bathrooms']}\\n\"\n",
    "        f\"Area: {row['Area (sqft)']} sqft\\n\"\n",
    "        f\"Type: {row['Type']}\\n\"\n",
    "        f\"Status: {row['Status']}\\n\"\n",
    "        f\"Agent: {row['Agent Name']} | {row['Agent Phone']} | {row['Agent Email']}\\n\"\n",
    "        f\"Image URL: {row['Image URL']}\\n\"\n",
    "        f\"Description: {row['Description']}\"\n",
    "    )\n",
    "\n",
    "df[\"Embedding Prompt\"] = df.apply(create_embedding_prompt, axis=1)\n",
    "df[\"Embedding Prompt\"] "
   ]
  },
  {
   "cell_type": "code",
   "execution_count": null,
   "id": "a556bcfc",
   "metadata": {},
   "outputs": [],
   "source": [
    "# Define prompt template\n",
    "template = PromptTemplate(\n",
    "    input_variables=[\"structured_listing\"],\n",
    "    template=\"\"\"\n",
    "You are a real estate copywriter. Given the structured property information below, write a detailed and compelling real estate listing description in fluent English. Avoid listing the fields directly—convert them into natural narrative language.\n",
    "\n",
    "Structured Listing:\n",
    "{structured_listing}\n",
    "\n",
    "Your task: Write a paragraph that combines all the details into a smooth and attractive property description suitable for websites or brochures.\n",
    "\"\"\"\n",
    ")\n",
    "\n",
    "# Initialize LangChain with OpenAI (set your API key)\n",
    "llm = OpenAI(temperature=0.7)\n",
    "chain = LLMChain(prompt=template, llm=llm)\n",
    "\n",
    "# Generate descriptions\n",
    "df[\"Natural Description\"] = df[\"Embedding Prompt\"].apply(lambda row: chain.run(structured_listing=row))\n",
    "\n",
    "#Drop Embedding Prompt\n",
    "\n",
    "# Save the enriched CSV\n",
    "df.to_csv(\"real_estate_with_descriptions.csv\", index=False)"
   ]
  }
 ],
 "metadata": {
  "kernelspec": {
   "display_name": "venv",
   "language": "python",
   "name": "python3"
  },
  "language_info": {
   "codemirror_mode": {
    "name": "ipython",
    "version": 3
   },
   "file_extension": ".py",
   "mimetype": "text/x-python",
   "name": "python",
   "nbconvert_exporter": "python",
   "pygments_lexer": "ipython3",
   "version": "3.10.18"
  }
 },
 "nbformat": 4,
 "nbformat_minor": 5
}
